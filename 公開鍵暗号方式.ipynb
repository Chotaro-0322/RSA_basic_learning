{
  "nbformat": 4,
  "nbformat_minor": 0,
  "metadata": {
    "colab": {
      "provenance": []
    },
    "kernelspec": {
      "name": "python3",
      "display_name": "Python 3"
    },
    "language_info": {
      "name": "python"
    }
  },
  "cells": [
    {
      "cell_type": "code",
      "execution_count": null,
      "metadata": {
        "id": "oRDqCd1B6CxW"
      },
      "outputs": [],
      "source": [
        "# 秘密鍵と公開鍵の作成\n",
        "\"\"\"\n",
        "1. 2つの素数p, qを選ぶ\n",
        "2. n = p * qを計算\n",
        "3. Φ(n) = (p - 1) * (q - 1)を計算\n",
        "4. 1 < e < Φ(n)を満たすeを選ぶ。eはΦ(n)とお互いに素である必要がある\n",
        "5. d ≡ e^-1(mod Φ(n))を計算する\n",
        "   → d*e = 1(mod Φ(n))に変更\n",
        "   ex) e = 7, Φ(n) = 160の時, \n",
        "       d = 23と答えが出てくる\n",
        "       理由) 7*23 = 161であるから\n",
        "             161/160 = 1あまり1\n",
        "             一方 1/160 = 0あまり1\n",
        "             となり, 7*23と1は余りが一致するので同位(≡という記号を使う)といえる。\n",
        "6. (n, e)を公開鍵, dを秘密鍵とする\n",
        "\n",
        "\"\"\""
      ]
    }
  ]
}