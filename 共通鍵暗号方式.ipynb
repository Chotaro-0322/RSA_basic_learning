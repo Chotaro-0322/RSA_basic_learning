{
  "nbformat": 4,
  "nbformat_minor": 0,
  "metadata": {
    "colab": {
      "provenance": []
    },
    "kernelspec": {
      "name": "python3",
      "display_name": "Python 3"
    },
    "language_info": {
      "name": "python"
    }
  },
  "cells": [
    {
      "cell_type": "code",
      "execution_count": 28,
      "metadata": {
        "colab": {
          "base_uri": "https://localhost:8080/"
        },
        "id": "rj8Qb_lbyQfZ",
        "outputId": "1bf0923f-49aa-49c5-f39a-7ea5c727a302"
      },
      "outputs": [
        {
          "output_type": "stream",
          "name": "stdout",
          "text": [
            "text :  abcde\n",
            "key :  12121\n",
            "t :  a  →  10\n",
            "k :  1  →  1\n",
            "int_t + int_k :  11  \n",
            "hex(int_t + int_k) 0xb\n",
            "t :  b  →  11\n",
            "k :  2  →  2\n",
            "int_t + int_k :  13  \n",
            "hex(int_t + int_k) 0xd\n",
            "t :  c  →  12\n",
            "k :  1  →  1\n",
            "int_t + int_k :  13  \n",
            "hex(int_t + int_k) 0xd\n",
            "t :  d  →  13\n",
            "k :  2  →  2\n",
            "int_t + int_k :  15  \n",
            "hex(int_t + int_k) 0xf\n",
            "t :  e  →  14\n",
            "k :  1  →  1\n",
            "int_t + int_k :  15  \n",
            "hex(int_t + int_k) 0xf\n",
            "暗号化されたデータ bddff\n"
          ]
        }
      ],
      "source": [
        "text = \"abcde\"\n",
        "key = \"12121\"\n",
        "print(\"text : \", text)\n",
        "print(\"key : \", key)\n",
        "\n",
        "# --------------------------暗号化--------------------------------\n",
        "encrypted_text = \"\"\n",
        "for t, k in zip(text, key): # zipで textとkeyを1つずつ取り出す\n",
        "  \"\"\" \n",
        "  t : textから取り出した1文字\n",
        "  k : keyから取り出した1文字\n",
        "  hex_t : 文字tを数字に変換したもの\n",
        "  hex_k : 文字kを数字に変換したもの\n",
        "  hex_t_and_k : hex_tとhexkを足し算した数字を文字に変換したもの\n",
        "  encryted_data : 暗号化された文字を追加していく場所\n",
        "  \n",
        "  \"\"\"\n",
        "  print(\"t : \", t, \" → \", int(\"0x\" + t, 16))\n",
        "  print(\"k : \", k, \" → \", int(\"0x\" + k, 16))\n",
        "  int_t = int(\"0x\" + t, 16)\n",
        "  int_k = int(\"0x\" + k, 16)\n",
        "\n",
        "  print(\"int_t + int_k : \", int_t + int_k, \" \\nhex(int_t + int_k)\", hex(int_t + int_k))\n",
        "  encrypted_t = hex(int_t + int_k)\n",
        "\n",
        "  encrypted_text = encrypted_text + encrypted_t[-1]\n",
        "print(\"暗号化されたデータ\", encrypted_text)"
      ]
    },
    {
      "cell_type": "code",
      "source": [
        "decrypted_text = \"\"\n",
        "# -------------------------復号化(暗号をもとに戻す)-------------------\n",
        "for et, k in zip(encrypted_text, key):\n",
        "  int_et = int(\"0x\" + et, 16)\n",
        "  int_k = int(\"0x\" + k, 16)\n",
        "\n",
        "  decrypted_t = hex(int_et - int_k)\n",
        "\n",
        "  decrypted_text = decrypted_text + decrypted_t[-1]\n",
        "print(\"復号化されたデータ : \", decrypted_text)"
      ],
      "metadata": {
        "colab": {
          "base_uri": "https://localhost:8080/"
        },
        "id": "UxBxqKYayzWk",
        "outputId": "3b03dff7-8e6c-4538-b5aa-39805ed4a451"
      },
      "execution_count": 29,
      "outputs": [
        {
          "output_type": "stream",
          "name": "stdout",
          "text": [
            "復号化されたデータ :  abcde\n"
          ]
        }
      ]
    },
    {
      "cell_type": "code",
      "source": [],
      "metadata": {
        "id": "idy_r0Se5dT0"
      },
      "execution_count": null,
      "outputs": []
    }
  ]
}